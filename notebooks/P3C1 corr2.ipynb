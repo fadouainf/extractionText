{
  "cells": [
    {
      "cell_type": "markdown",
      "metadata": {
        "id": "6ip-KHgAgE5N"
      },
      "source": [
        "![openclassrooms](https://s3.eu-west-1.amazonaws.com/course.oc-static.com/courses/6204541/1+HnqdJ-5ofxiPP9HIxdNdpw.jpeg)\n",
        "\n",
        "# Initiez-vous à Python pour l'analyse de données\n",
        "\n",
        "## Créez des tableaux pour stocker vos variables\n",
        "\n",
        "<br><br>\n",
        "\n",
        "**Ajouter des éléments à une liste**\n",
        "\n",
        "Remplacez les **??** par le code adéquat pour créer une liste vide :"
      ]
    },
    {
      "cell_type": "code",
      "execution_count": null,
      "metadata": {
        "id": "Pun1Wt6TgE5U"
      },
      "outputs": [],
      "source": [
        "invites = []"
      ]
    },
    {
      "cell_type": "markdown",
      "metadata": {
        "id": "47Y7j3s3gE5X"
      },
      "source": [
        "Ajoutez 3 invités à la liste : Joey, Martin et Marie"
      ]
    },
    {
      "cell_type": "code",
      "execution_count": null,
      "metadata": {
        "id": "OztF3LU9gE5Y"
      },
      "outputs": [],
      "source": [
        "invites.append('Joey')\n",
        "invites.append('Martin')\n",
        "invites.append('Marie')"
      ]
    },
    {
      "cell_type": "markdown",
      "metadata": {
        "id": "URew89eSgE5Z"
      },
      "source": [
        "**A noter -** nous avons ici utilisé 3 lignes, mais nous aurions pu très bien faire également :<br>\n",
        "`invites.extend(['Joey', 'Martin', 'Marie'])`<br><br>\n",
        "\n",
        "Affichez la taille de la liste :"
      ]
    },
    {
      "cell_type": "code",
      "execution_count": null,
      "metadata": {
        "id": "roQj2sUXgE5a",
        "outputId": "cae724c2-9ad1-430b-b6a3-e12ae71de77b"
      },
      "outputs": [
        {
          "data": {
            "text/plain": [
              "3"
            ]
          },
          "execution_count": 3,
          "metadata": {},
          "output_type": "execute_result"
        }
      ],
      "source": [
        "len(invites)"
      ]
    },
    {
      "cell_type": "markdown",
      "metadata": {
        "id": "rcuHpfuBgE5d"
      },
      "source": [
        "Remplacez Martin par John dans la liste :"
      ]
    },
    {
      "cell_type": "code",
      "execution_count": null,
      "metadata": {
        "id": "XOcT9_vIgE5e"
      },
      "outputs": [],
      "source": [
        "invites.insert(1, 'John')\n",
        "invites.remove('Martin')"
      ]
    },
    {
      "cell_type": "markdown",
      "metadata": {
        "id": "Mhwemyx4gE5f"
      },
      "source": [
        "Supprimez Joey de la liste :"
      ]
    },
    {
      "cell_type": "code",
      "execution_count": null,
      "metadata": {
        "id": "Ak9kocm-gE5g"
      },
      "outputs": [],
      "source": [
        "invites.remove('Joey')"
      ]
    },
    {
      "cell_type": "markdown",
      "metadata": {
        "id": "qCNykciigE5h"
      },
      "source": [
        "Affichez le contenu de la liste :"
      ]
    },
    {
      "cell_type": "code",
      "execution_count": null,
      "metadata": {
        "id": "O-SrAfbFgE5i",
        "outputId": "99af8077-5d78-4159-b4d6-827177fe5bcf"
      },
      "outputs": [
        {
          "name": "stdout",
          "output_type": "stream",
          "text": [
            "John\n",
            "Marie\n"
          ]
        }
      ],
      "source": [
        "for invite in invites :\n",
        "    print(invite)"
      ]
    },
    {
      "cell_type": "code",
      "execution_count": null,
      "metadata": {
        "id": "SPO3WA_8gE5j"
      },
      "outputs": [],
      "source": []
    }
  ],
  "metadata": {
    "kernelspec": {
      "display_name": "Python 3",
      "language": "python",
      "name": "python3"
    },
    "language_info": {
      "codemirror_mode": {
        "name": "ipython",
        "version": 3
      },
      "file_extension": ".py",
      "mimetype": "text/x-python",
      "name": "python",
      "nbconvert_exporter": "python",
      "pygments_lexer": "ipython3",
      "version": "3.8.5"
    },
    "colab": {
      "provenance": []
    }
  },
  "nbformat": 4,
  "nbformat_minor": 0
}