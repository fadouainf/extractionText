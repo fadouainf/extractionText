{
  "cells": [
    {
      "cell_type": "markdown",
      "id": "c228b8d7",
      "metadata": {
        "id": "c228b8d7"
      },
      "source": [
        "![openclassrooms](https://s3.eu-west-1.amazonaws.com/course.oc-static.com/courses/6204541/1+HnqdJ-5ofxiPP9HIxdNdpw.jpeg)\n",
        "\n",
        "# Créez vos premiers arrays avec Numpy\n",
        "\n",
        "Tout au long de ce cours, nous allons nous mettre dans la peau d’une personne travaillant  dans un service data au sein d'une banque. Plus précisément, vous travaillez pour la filière gérant les différents prêts. L’objectif sera d’utiliser les connaissances acquises sur les librairies Python pour aider l’agence dans différentes tâches.\n",
        "\n",
        "Pour cette première tâche, nous avons à notre disposition les revenus de 10 clients de notre banque. Vous aurez à utiliser les différentes manipulations présentées dans ce chapitre pour sélectionner certains revenus selon une condition spécifique et effectuer diverses opérations."
      ]
    },
    {
      "cell_type": "code",
      "execution_count": 1,
      "id": "dc9d8094",
      "metadata": {
        "id": "dc9d8094"
      },
      "outputs": [],
      "source": [
        "import numpy as np"
      ]
    },
    {
      "cell_type": "markdown",
      "id": "c180d60a",
      "metadata": {
        "id": "c180d60a"
      },
      "source": [
        "Considérons les revenus mensuels suivants :"
      ]
    },
    {
      "cell_type": "code",
      "execution_count": 2,
      "id": "4e9af3c4",
      "metadata": {
        "id": "4e9af3c4"
      },
      "outputs": [],
      "source": [
        "liste = [1800, 1500, 2200, 3000, 2172, 5000, 1400, 1200, 1100, 1300]"
      ]
    },
    {
      "cell_type": "markdown",
      "id": "4025d141",
      "metadata": {
        "id": "4025d141"
      },
      "source": [
        "A partir de ces revenus, créez un array que vous nommerez `revenus` :"
      ]
    },
    {
      "cell_type": "code",
      "execution_count": 9,
      "id": "85ea09e2",
      "metadata": {
        "id": "85ea09e2",
        "outputId": "e0c27fa8-fc43-4bea-f78f-a7b1da5f8acb",
        "colab": {
          "base_uri": "https://localhost:8080/",
          "height": 34
        }
      },
      "outputs": [
        {
          "output_type": "display_data",
          "data": {
            "text/plain": [
              "array([1800, 1500, 2200, 3000, 2172, 5000, 1400, 1200, 1100, 1300])"
            ]
          },
          "metadata": {}
        }
      ],
      "source": [
        "revenus =np.array(liste)\n",
        "display(revenus)"
      ]
    },
    {
      "cell_type": "markdown",
      "id": "ef50d992",
      "metadata": {
        "id": "ef50d992"
      },
      "source": [
        "Maintenant, créez un nouvel array `haut_revenus` dans lequel vous sélectionnerez l'ensemble des revenus supérieurs ou égal à 3000€ :"
      ]
    },
    {
      "cell_type": "code",
      "execution_count": 11,
      "id": "b5b13147",
      "metadata": {
        "id": "b5b13147",
        "outputId": "8f7bdc13-6e67-4a4b-fcf8-4db3acee9238",
        "colab": {
          "base_uri": "https://localhost:8080/",
          "height": 34
        }
      },
      "outputs": [
        {
          "output_type": "display_data",
          "data": {
            "text/plain": [
              "array([3000, 5000])"
            ]
          },
          "metadata": {}
        }
      ],
      "source": [
        "haut_revenus =revenus[revenus>=3000]\n",
        "display(haut_revenus)"
      ]
    },
    {
      "cell_type": "markdown",
      "id": "26e51644",
      "metadata": {
        "id": "26e51644"
      },
      "source": [
        "Il est à présent temps de calculer quelques indicateurs :\n",
        "- calculez dans un premier temps la somme des revenus **annuelle**. Pour rappel, les revenus listés ci dessus sont mensuels.\n",
        "- calculez ensuite la moyenne des revenus des 10 clients"
      ]
    },
    {
      "cell_type": "code",
      "execution_count": 12,
      "id": "197015a8",
      "metadata": {
        "id": "197015a8",
        "outputId": "e875949c-b029-4a07-aaa1-a299f7be1d2c",
        "colab": {
          "base_uri": "https://localhost:8080/"
        }
      },
      "outputs": [
        {
          "output_type": "execute_result",
          "data": {
            "text/plain": [
              "248064"
            ]
          },
          "metadata": {},
          "execution_count": 12
        }
      ],
      "source": [
        "somme = (revenus.sum())*12\n",
        "somme"
      ]
    },
    {
      "cell_type": "code",
      "execution_count": 16,
      "id": "4555b2ac",
      "metadata": {
        "id": "4555b2ac",
        "outputId": "299010e1-cded-4961-e662-e6fadada1eb3",
        "colab": {
          "base_uri": "https://localhost:8080/"
        }
      },
      "outputs": [
        {
          "output_type": "stream",
          "name": "stdout",
          "text": [
            "la moyenne des revenus est:2067\n"
          ]
        }
      ],
      "source": [
        "moyenne = revenus.mean()\n",
        "print(f\"la moyenne des revenus est:{round(moyenne)}\")"
      ]
    },
    {
      "cell_type": "markdown",
      "id": "2ed2f4fd",
      "metadata": {
        "id": "2ed2f4fd"
      },
      "source": [
        "Un de nos clients (dont les revenus mensuels s'élevaient jusque là à 1400€) vient de nous annoncer qu'il venait d'obtenir une promotion. Grâce à cette dernière, il a gagné 200€ sur son salaire mensuel. Effectuez cette modification au sein de votre array revenus."
      ]
    },
    {
      "cell_type": "code",
      "execution_count": 28,
      "id": "2b216c95",
      "metadata": {
        "id": "2b216c95",
        "outputId": "a2235a64-5338-4c67-be0c-52482c13db87",
        "colab": {
          "base_uri": "https://localhost:8080/",
          "height": 34
        }
      },
      "outputs": [
        {
          "output_type": "display_data",
          "data": {
            "text/plain": [
              "array([1800, 1500, 2200, 3000, 2172, 5000, 1600, 1200, 1100, 1300])"
            ]
          },
          "metadata": {}
        }
      ],
      "source": [
        "revenus[revenus==1400]+=200\n",
        "display(revenus)"
      ]
    },
    {
      "cell_type": "code",
      "source": [],
      "metadata": {
        "id": "MKM9Svw0EbLi"
      },
      "id": "MKM9Svw0EbLi",
      "execution_count": null,
      "outputs": []
    },
    {
      "cell_type": "markdown",
      "id": "7bf8c46b",
      "metadata": {
        "id": "7bf8c46b"
      },
      "source": [
        "Félicitation pour être arrivé au bout !\n",
        "\n",
        "Si vous avez rencontré certains problèmes : aucune inquiétude :)\n",
        "\n",
        "Vous pouvez à présent vous référer à la correction ci-contre qui propose une solution complète : [lien vers la solution](https://colab.research.google.com/github/OpenClassrooms-Student-Center/fr-4452741-decouvrez-les-librairies-python-pour-la-data-science/blob/main/notebooks/P1/P1C3%20-%20Cr%C3%A9ez%20vos%20premiers%20arrays%20avec%20Numpy%20-%20correction.ipynb)."
      ]
    }
  ],
  "metadata": {
    "kernelspec": {
      "display_name": "Python 3 (ipykernel)",
      "language": "python",
      "name": "python3"
    },
    "language_info": {
      "codemirror_mode": {
        "name": "ipython",
        "version": 3
      },
      "file_extension": ".py",
      "mimetype": "text/x-python",
      "name": "python",
      "nbconvert_exporter": "python",
      "pygments_lexer": "ipython3",
      "version": "3.9.13"
    },
    "colab": {
      "provenance": []
    }
  },
  "nbformat": 4,
  "nbformat_minor": 5
}