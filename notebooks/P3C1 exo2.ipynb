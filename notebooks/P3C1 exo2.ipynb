{
  "cells": [
    {
      "cell_type": "markdown",
      "metadata": {
        "id": "C1WnNDoqehFW"
      },
      "source": [
        "![openclassrooms](https://s3.eu-west-1.amazonaws.com/course.oc-static.com/courses/6204541/1+HnqdJ-5ofxiPP9HIxdNdpw.jpeg)\n",
        "\n",
        "# Initiez-vous à Python pour l'analyse de données\n",
        "\n",
        "## Créez des tableaux pour stocker vos variables\n",
        "\n",
        "<br><br>\n",
        "\n",
        "**Ajouter des éléments à une liste**\n",
        "\n",
        "Remplacez les **??** par le code adéquat pour créer une liste vide :"
      ]
    },
    {
      "cell_type": "code",
      "execution_count": 11,
      "metadata": {
        "id": "NGYO4iJyehFZ"
      },
      "outputs": [],
      "source": [
        "invites = []"
      ]
    },
    {
      "cell_type": "markdown",
      "metadata": {
        "id": "J81-hqINehFa"
      },
      "source": [
        "Ajoutez 3 invités à la liste : Joey, Martin et Marie"
      ]
    },
    {
      "cell_type": "code",
      "execution_count": 12,
      "metadata": {
        "id": "gURGRgtZehFa",
        "outputId": "8f500714-18ef-4819-ef64-ac4e6f7ad27a",
        "colab": {
          "base_uri": "https://localhost:8080/"
        }
      },
      "outputs": [
        {
          "output_type": "stream",
          "name": "stdout",
          "text": [
            "['joey', 'Martin', 'Marie']\n",
            "joey\n",
            "Martin\n",
            "Marie\n"
          ]
        }
      ],
      "source": [
        "invites.append(\"joey\")\n",
        "invites.append(\"Martin\")\n",
        "invites.append(\"Marie\")\n",
        "print(invites)\n",
        "for inv in invites:\n",
        "  print(inv)"
      ]
    },
    {
      "cell_type": "markdown",
      "metadata": {
        "id": "2sge_VdpehFb"
      },
      "source": [
        "Affichez la taille de la liste :"
      ]
    },
    {
      "cell_type": "code",
      "execution_count": 13,
      "metadata": {
        "id": "Oi6pfKqIehFb",
        "outputId": "454ab1a1-5c1c-438c-fb46-0c4b383dbffb",
        "colab": {
          "base_uri": "https://localhost:8080/"
        }
      },
      "outputs": [
        {
          "output_type": "execute_result",
          "data": {
            "text/plain": [
              "3"
            ]
          },
          "metadata": {},
          "execution_count": 13
        }
      ],
      "source": [
        "len(invites)"
      ]
    },
    {
      "cell_type": "markdown",
      "metadata": {
        "id": "euuGhN8gehFb"
      },
      "source": [
        "Remplacez Martin par John dans la liste :"
      ]
    },
    {
      "cell_type": "code",
      "execution_count": 14,
      "metadata": {
        "id": "9PhD_7MAehFc",
        "outputId": "70ebad0c-d863-4f69-8d1a-4fbbbb93d123",
        "colab": {
          "base_uri": "https://localhost:8080/"
        }
      },
      "outputs": [
        {
          "output_type": "stream",
          "name": "stdout",
          "text": [
            "['joey', 'john', 'Marie']\n"
          ]
        }
      ],
      "source": [
        "invites[1]=\"john\"\n",
        "print(invites)"
      ]
    },
    {
      "cell_type": "markdown",
      "metadata": {
        "id": "Zi2LchS9ehFc"
      },
      "source": [
        "Supprimez Joey de la liste :"
      ]
    },
    {
      "cell_type": "code",
      "execution_count": 15,
      "metadata": {
        "id": "2GAqz2KYehFc",
        "outputId": "88edaaf3-bfe0-4107-bdcb-1ac155ef44e8",
        "colab": {
          "base_uri": "https://localhost:8080/"
        }
      },
      "outputs": [
        {
          "output_type": "stream",
          "name": "stdout",
          "text": [
            "['john', 'Marie']\n"
          ]
        }
      ],
      "source": [
        "del invites[0]\n",
        "print(invites)"
      ]
    },
    {
      "cell_type": "markdown",
      "metadata": {
        "id": "6rVACpr8ehFd"
      },
      "source": [
        "Affichez le contenu de la liste :"
      ]
    },
    {
      "cell_type": "code",
      "execution_count": 16,
      "metadata": {
        "id": "OmcbTT7EehFd",
        "outputId": "62d3ac0b-5a1c-4645-93b3-ae32f30ab14f",
        "colab": {
          "base_uri": "https://localhost:8080/"
        }
      },
      "outputs": [
        {
          "output_type": "stream",
          "name": "stdout",
          "text": [
            "john\n",
            "Marie\n"
          ]
        }
      ],
      "source": [
        "for invite in invites :\n",
        "    print(invite)"
      ]
    }
  ],
  "metadata": {
    "kernelspec": {
      "display_name": "Python 3",
      "language": "python",
      "name": "python3"
    },
    "language_info": {
      "codemirror_mode": {
        "name": "ipython",
        "version": 3
      },
      "file_extension": ".py",
      "mimetype": "text/x-python",
      "name": "python",
      "nbconvert_exporter": "python",
      "pygments_lexer": "ipython3",
      "version": "3.8.5"
    },
    "colab": {
      "provenance": []
    }
  },
  "nbformat": 4,
  "nbformat_minor": 0
}