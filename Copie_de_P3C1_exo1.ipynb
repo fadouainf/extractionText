{
  "cells": [
    {
      "cell_type": "markdown",
      "metadata": {
        "id": "view-in-github",
        "colab_type": "text"
      },
      "source": [
        "<a href=\"https://colab.research.google.com/github/fadouainf/extractionText/blob/main/Copie_de_P3C1_exo1.ipynb\" target=\"_parent\"><img src=\"https://colab.research.google.com/assets/colab-badge.svg\" alt=\"Open In Colab\"/></a>"
      ]
    },
    {
      "cell_type": "markdown",
      "metadata": {
        "id": "qTbxs4iwbFwE"
      },
      "source": [
        "![openclassrooms](https://s3.eu-west-1.amazonaws.com/course.oc-static.com/courses/6204541/1+HnqdJ-5ofxiPP9HIxdNdpw.jpeg)\n",
        "\n",
        "# Initiez-vous à Python pour l'analyse de données\n",
        "\n",
        "## Créez des tableaux pour stocker vos variables\n",
        "\n",
        "<br><br>\n",
        "\n",
        "**Une liste pour les gouverner tous**\n",
        "\n",
        "Déclarez une liste `couleurs` contenant 5 éléments : `rouge`, `jaune`, `orange`, `vert` et `bleu`."
      ]
    },
    {
      "cell_type": "code",
      "execution_count": null,
      "metadata": {
        "id": "OVAbxXuibFwO",
        "outputId": "907d584d-a2ce-467d-bf65-3cf7c43065c3",
        "colab": {
          "base_uri": "https://localhost:8080/"
        }
      },
      "outputs": [
        {
          "output_type": "stream",
          "name": "stdout",
          "text": [
            "['rougr', 'jaune', 'orange', 'vert', 'bleu']\n"
          ]
        }
      ],
      "source": [
        "couleurs =[\"rougr\", \"jaune\", \"orange\",\"vert\",\"bleu\"]\n",
        "print(couleurs)"
      ]
    },
    {
      "cell_type": "markdown",
      "metadata": {
        "id": "-BzPgo-abFwT"
      },
      "source": [
        "Remplacez la couleur `vert` par `émeraude` :"
      ]
    },
    {
      "cell_type": "code",
      "execution_count": null,
      "metadata": {
        "id": "3yazpqO2bFwU",
        "outputId": "569ef7c3-103c-438f-a845-c0b7551db176",
        "colab": {
          "base_uri": "https://localhost:8080/"
        }
      },
      "outputs": [
        {
          "output_type": "stream",
          "name": "stdout",
          "text": [
            "['rougr', 'jaune', 'orange', 'emeraude', 'bleu']\n"
          ]
        }
      ],
      "source": [
        "couleurs[3]=\"emeraude\"\n",
        "print(couleurs)  #affiuchage d'une liste"
      ]
    },
    {
      "cell_type": "markdown",
      "metadata": {
        "id": "7iNoFFACbFwV"
      },
      "source": [
        "Affichez le contenu de la liste :"
      ]
    },
    {
      "cell_type": "code",
      "execution_count": null,
      "metadata": {
        "id": "poN_FuV5bFwX",
        "outputId": "7af12844-cc70-436e-8eb2-f53eb143ff76",
        "colab": {
          "base_uri": "https://localhost:8080/"
        }
      },
      "outputs": [
        {
          "output_type": "stream",
          "name": "stdout",
          "text": [
            "rougr\n",
            "jaune\n",
            "orange\n",
            "emeraude\n",
            "bleu\n"
          ]
        }
      ],
      "source": [
        "#afficher le contenu d'une liste par ligne\n",
        "for couleur in couleurs :\n",
        "    print(couleur)"
      ]
    }
  ],
  "metadata": {
    "kernelspec": {
      "display_name": "Python 3",
      "language": "python",
      "name": "python3"
    },
    "language_info": {
      "codemirror_mode": {
        "name": "ipython",
        "version": 3
      },
      "file_extension": ".py",
      "mimetype": "text/x-python",
      "name": "python",
      "nbconvert_exporter": "python",
      "pygments_lexer": "ipython3",
      "version": "3.8.5"
    },
    "colab": {
      "provenance": [],
      "include_colab_link": true
    }
  },
  "nbformat": 4,
  "nbformat_minor": 0
}